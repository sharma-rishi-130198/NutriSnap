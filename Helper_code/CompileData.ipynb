{
 "cells": [
  {
   "cell_type": "code",
   "execution_count": 12,
   "id": "31a75a2f",
   "metadata": {},
   "outputs": [],
   "source": [
    "import json\n",
    "import requests\n",
    "from requests.auth import HTTPBasicAuth"
   ]
  },
  {
   "cell_type": "code",
   "execution_count": 98,
   "id": "0e38a697",
   "metadata": {},
   "outputs": [],
   "source": [
    "url=\"https://api.nal.usda.gov/fdc/v1/foods/list\"\n",
    "#url_2=\"https://api.nal.usda.gov/fdc/v1/foods/list?dataType=Foundation&pageSize=25&pageNumber=2&key=hQhgqLBk5xml2nduFOPKNTqxcG8qju4YKUZ0v0ka\"\n",
    "api_key=\"hQhgqLBk5xml2nduFOPKNTqxcG8qju4YKUZ0v0ka\"\n",
    "params = {'api_key': api_key,'dataType': [ \"Branded\"], 'pageSize': 200, 'pageNumber': 1}\n",
    "headers = {'accept': 'application/json'}\n",
    "auth = HTTPBasicAuth('apikey', key)"
   ]
  },
  {
   "cell_type": "code",
   "execution_count": 99,
   "id": "a465409a",
   "metadata": {},
   "outputs": [],
   "source": [
    "response_API=requests.get(url,params=params,headers=headers)\n",
    "#response_API=requests.get(url_2,auth=None,params=params)"
   ]
  },
  {
   "cell_type": "code",
   "execution_count": 100,
   "id": "4f3ee6f3",
   "metadata": {},
   "outputs": [
    {
     "data": {
      "text/plain": [
       "200"
      ]
     },
     "execution_count": 100,
     "metadata": {},
     "output_type": "execute_result"
    }
   ],
   "source": [
    "response_API.status_code"
   ]
  },
  {
   "cell_type": "code",
   "execution_count": 101,
   "id": "a5247bee",
   "metadata": {},
   "outputs": [
    {
     "data": {
      "text/plain": [
       "str"
      ]
     },
     "execution_count": 101,
     "metadata": {},
     "output_type": "execute_result"
    }
   ],
   "source": [
    "from pprint import pprint\n",
    "temp=response_API.text\n",
    "type(temp)"
   ]
  },
  {
   "cell_type": "code",
   "execution_count": 53,
   "id": "c3e771ff",
   "metadata": {},
   "outputs": [],
   "source": [
    "temp_list=list(temp)"
   ]
  },
  {
   "cell_type": "code",
   "execution_count": 102,
   "id": "53f7afa3",
   "metadata": {},
   "outputs": [
    {
     "data": {
      "text/plain": [
       "list"
      ]
     },
     "execution_count": 102,
     "metadata": {},
     "output_type": "execute_result"
    }
   ],
   "source": [
    "json_resp=json.loads(response_API.text)\n",
    "type(json_resp)"
   ]
  },
  {
   "cell_type": "code",
   "execution_count": 103,
   "id": "c536c4ba",
   "metadata": {},
   "outputs": [
    {
     "name": "stdout",
     "output_type": "stream",
     "text": [
      "{'fdcId': 1900168, 'description': ' ALMOND MILK, ORIGINAL', 'dataType': 'Branded', 'publicationDate': '2021-07-29', 'brandOwner': 'H E Butt Grocery Company', 'gtinUpc': '041220970063', 'foodNutrients': [{'number': '203', 'name': 'Protein', 'amount': 0.42, 'unitName': 'G', 'derivationCode': 'LCCS', 'derivationDescription': 'Calculated from value per serving size measure'}, {'number': '204', 'name': 'Total lipid (fat)', 'amount': 1.04, 'unitName': 'G', 'derivationCode': 'LCCS', 'derivationDescription': 'Calculated from value per serving size measure'}, {'number': '205', 'name': 'Carbohydrate, by difference', 'amount': 3.33, 'unitName': 'G', 'derivationCode': 'LCCS', 'derivationDescription': 'Calculated from value per serving size measure'}, {'number': '208', 'name': 'Energy', 'amount': 25.0, 'unitName': 'KCAL', 'derivationCode': 'LCCS', 'derivationDescription': 'Calculated from value per serving size measure'}, {'number': '269', 'name': 'Sugars, total including NLEA', 'amount': 2.92, 'unitName': 'G', 'derivationCode': 'LCCS', 'derivationDescription': 'Calculated from value per serving size measure'}, {'number': '291', 'name': 'Fiber, total dietary', 'amount': 0.4, 'unitName': 'G', 'derivationCode': 'LCCS', 'derivationDescription': 'Calculated from value per serving size measure'}, {'number': '301', 'name': 'Calcium, Ca', 'amount': 42.0, 'unitName': 'MG', 'derivationCode': 'LCCD', 'derivationDescription': 'Calculated from a daily value percentage per serving size measure'}, {'number': '303', 'name': 'Iron, Fe', 'amount': 0.15, 'unitName': 'MG', 'derivationCode': 'LCCD', 'derivationDescription': 'Calculated from a daily value percentage per serving size measure'}, {'number': '306', 'name': 'Potassium, K', 'amount': 75.0, 'unitName': 'MG', 'derivationCode': 'LCCS', 'derivationDescription': 'Calculated from value per serving size measure'}, {'number': '307', 'name': 'Sodium, Na', 'amount': 62.0, 'unitName': 'MG', 'derivationCode': 'LCCS', 'derivationDescription': 'Calculated from value per serving size measure'}, {'number': '318', 'name': 'Vitamin A, IU', 'amount': 208, 'unitName': 'IU', 'derivationCode': 'LCCD', 'derivationDescription': 'Calculated from a daily value percentage per serving size measure'}, {'number': '324', 'name': 'Vitamin D (D2 + D3), International Units', 'amount': 42.0, 'unitName': 'IU', 'derivationCode': 'LCCD', 'derivationDescription': 'Calculated from a daily value percentage per serving size measure'}, {'number': '401', 'name': 'Vitamin C, total ascorbic acid', 'amount': 0.0, 'unitName': 'MG', 'derivationCode': 'LCCD', 'derivationDescription': 'Calculated from a daily value percentage per serving size measure'}, {'number': '601', 'name': 'Cholesterol', 'amount': 0.0, 'unitName': 'MG', 'derivationCode': 'LCCD', 'derivationDescription': 'Calculated from a daily value percentage per serving size measure'}, {'number': '605', 'name': 'Fatty acids, total trans', 'amount': 0.0, 'unitName': 'G', 'derivationCode': 'LCCS', 'derivationDescription': 'Calculated from value per serving size measure'}, {'number': '606', 'name': 'Fatty acids, total saturated', 'amount': 0.0, 'unitName': 'G', 'derivationCode': 'LCCD', 'derivationDescription': 'Calculated from a daily value percentage per serving size measure'}, {'number': '645', 'name': 'Fatty acids, total monounsaturated', 'amount': 0.62, 'unitName': 'G', 'derivationCode': 'LCCS', 'derivationDescription': 'Calculated from value per serving size measure'}, {'number': '646', 'name': 'Fatty acids, total polyunsaturated', 'amount': 0.21, 'unitName': 'G', 'derivationCode': 'LCCS', 'derivationDescription': 'Calculated from value per serving size measure'}]}\n"
     ]
    }
   ],
   "source": [
    "#json_resp.keys()\n",
    "print(json_resp[0])"
   ]
  },
  {
   "cell_type": "code",
   "execution_count": 104,
   "id": "ef4b1cd3",
   "metadata": {},
   "outputs": [
    {
     "data": {
      "text/plain": [
       "list"
      ]
     },
     "execution_count": 104,
     "metadata": {},
     "output_type": "execute_result"
    }
   ],
   "source": [
    "json_resp=json.loads(response_API.text)\n",
    "type(json_resp)"
   ]
  },
  {
   "cell_type": "code",
   "execution_count": 107,
   "id": "da7c096d",
   "metadata": {},
   "outputs": [
    {
     "data": {
      "text/plain": [
       "dict_keys(['fdcId', 'description', 'dataType', 'publicationDate', 'brandOwner', 'gtinUpc', 'foodNutrients'])"
      ]
     },
     "execution_count": 107,
     "metadata": {},
     "output_type": "execute_result"
    }
   ],
   "source": [
    "resp_dict.keys()"
   ]
  },
  {
   "cell_type": "code",
   "execution_count": 109,
   "id": "35eb5943",
   "metadata": {},
   "outputs": [],
   "source": [
    "import pandas as pd"
   ]
  },
  {
   "cell_type": "code",
   "execution_count": 138,
   "id": "0f0f6ad3",
   "metadata": {},
   "outputs": [
    {
     "name": "stdout",
     "output_type": "stream",
     "text": [
      "{'timestamp': '2022-09-19T05:21:55.511+0000', 'status': 500, 'error': 'Internal Server Error', 'message': 'all shards failed', 'path': '/portal-data/api/v1/foods/list'}\n"
     ]
    }
   ],
   "source": [
    "url=\"https://api.nal.usda.gov/fdc/v1/foods/list\"\n",
    "api_key=\"hQhgqLBk5xml2nduFOPKNTqxcG8qju4YKUZ0v0ka\"\n",
    "headers = {'accept': 'application/json'}\n",
    "auth = HTTPBasicAuth('apikey', key)\n",
    "params = {'api_key': api_key,'dataType': [ \"Branded\"], 'pageSize': 200, 'pageNumber': 200}\n",
    "response_API=requests.get(url,params=params,headers=headers)\n",
    "json_resp=json.loads(response_API.text)\n",
    "print(json_resp)"
   ]
  },
  {
   "cell_type": "code",
   "execution_count": null,
   "id": "66b8e881",
   "metadata": {},
   "outputs": [],
   "source": [
    "\n",
    "    print(\"Step \"+str(i+1))\n",
    "    #print(json_resp)\n",
    "    \n",
    "    \n",
    "for record in json_resp:\n",
    "  #print(type(record))\n",
    "  #print(record)\n",
    "    Temp=[None,None,None,None,0,0,0]\n",
    "    Temp[0]=record[\"fdcId\"]\n",
    "    Temp[1]=record[\"description\"]\n",
    "    Temp[2]=record[\"description\"].split(\",\")[0].strip().lower()\n",
    "    Temp[3]=record[\"dataType\"]\n",
    "  \n",
    "  for nutrient in record[\"foodNutrients\"]:\n",
    "  \n",
    "      if nutrient[\"name\"].lower()==\"protein\":\n",
    "          Temp[5]=float(nutrient[\"amount\"])\n",
    "      elif nutrient[\"name\"].lower()==\"energy\":\n",
    "          Temp[4]=float(nutrient[\"amount\"])\n",
    "      elif nutrient[\"name\"]==\"Total lipid (fat)\":\n",
    "          Temp[6]=float(nutrient[\"amount\"])\n",
    "  \n",
    "  finalData.append(Temp.copy())    \n",
    "    "
   ]
  },
  {
   "cell_type": "code",
   "execution_count": 139,
   "id": "5a9c4337",
   "metadata": {},
   "outputs": [
    {
     "name": "stdout",
     "output_type": "stream",
     "text": [
      "Step 53\n"
     ]
    },
    {
     "ename": "TypeError",
     "evalue": "string indices must be integers",
     "output_type": "error",
     "traceback": [
      "\u001b[1;31m---------------------------------------------------------------------------\u001b[0m",
      "\u001b[1;31mTypeError\u001b[0m                                 Traceback (most recent call last)",
      "\u001b[1;32m~\\AppData\\Local\\Temp/ipykernel_9160/2205648414.py\u001b[0m in \u001b[0;36m<module>\u001b[1;34m\u001b[0m\n\u001b[0;32m     15\u001b[0m         \u001b[1;31m#print(record)\u001b[0m\u001b[1;33m\u001b[0m\u001b[1;33m\u001b[0m\u001b[0m\n\u001b[0;32m     16\u001b[0m         \u001b[0mTemp\u001b[0m\u001b[1;33m=\u001b[0m\u001b[1;33m[\u001b[0m\u001b[1;32mNone\u001b[0m\u001b[1;33m,\u001b[0m\u001b[1;32mNone\u001b[0m\u001b[1;33m,\u001b[0m\u001b[1;32mNone\u001b[0m\u001b[1;33m,\u001b[0m\u001b[1;32mNone\u001b[0m\u001b[1;33m,\u001b[0m\u001b[1;36m0\u001b[0m\u001b[1;33m,\u001b[0m\u001b[1;36m0\u001b[0m\u001b[1;33m,\u001b[0m\u001b[1;36m0\u001b[0m\u001b[1;33m]\u001b[0m\u001b[1;33m\u001b[0m\u001b[1;33m\u001b[0m\u001b[0m\n\u001b[1;32m---> 17\u001b[1;33m         \u001b[0mTemp\u001b[0m\u001b[1;33m[\u001b[0m\u001b[1;36m0\u001b[0m\u001b[1;33m]\u001b[0m\u001b[1;33m=\u001b[0m\u001b[0mrecord\u001b[0m\u001b[1;33m[\u001b[0m\u001b[1;34m\"fdcId\"\u001b[0m\u001b[1;33m]\u001b[0m\u001b[1;33m\u001b[0m\u001b[1;33m\u001b[0m\u001b[0m\n\u001b[0m\u001b[0;32m     18\u001b[0m         \u001b[0mTemp\u001b[0m\u001b[1;33m[\u001b[0m\u001b[1;36m1\u001b[0m\u001b[1;33m]\u001b[0m\u001b[1;33m=\u001b[0m\u001b[0mrecord\u001b[0m\u001b[1;33m[\u001b[0m\u001b[1;34m\"description\"\u001b[0m\u001b[1;33m]\u001b[0m\u001b[1;33m\u001b[0m\u001b[1;33m\u001b[0m\u001b[0m\n\u001b[0;32m     19\u001b[0m         \u001b[0mTemp\u001b[0m\u001b[1;33m[\u001b[0m\u001b[1;36m2\u001b[0m\u001b[1;33m]\u001b[0m\u001b[1;33m=\u001b[0m\u001b[0mrecord\u001b[0m\u001b[1;33m[\u001b[0m\u001b[1;34m\"description\"\u001b[0m\u001b[1;33m]\u001b[0m\u001b[1;33m.\u001b[0m\u001b[0msplit\u001b[0m\u001b[1;33m(\u001b[0m\u001b[1;34m\",\"\u001b[0m\u001b[1;33m)\u001b[0m\u001b[1;33m[\u001b[0m\u001b[1;36m0\u001b[0m\u001b[1;33m]\u001b[0m\u001b[1;33m.\u001b[0m\u001b[0mstrip\u001b[0m\u001b[1;33m(\u001b[0m\u001b[1;33m)\u001b[0m\u001b[1;33m.\u001b[0m\u001b[0mlower\u001b[0m\u001b[1;33m(\u001b[0m\u001b[1;33m)\u001b[0m\u001b[1;33m\u001b[0m\u001b[1;33m\u001b[0m\u001b[0m\n",
      "\u001b[1;31mTypeError\u001b[0m: string indices must be integers"
     ]
    }
   ],
   "source": [
    "url=\"https://api.nal.usda.gov/fdc/v1/foods/list\"\n",
    "api_key=\"@@@@@@@@@@@@@@@@@@@@@@@@@@@@@@@@@@@@@@@\"\n",
    "headers = {'accept': 'application/json'}\n",
    "auth = HTTPBasicAuth('apikey', key)\n",
    "\n",
    "finalData=[]\n",
    "for i in range(52,100):\n",
    "    params = {'api_key': api_key,'dataType': [ \"Branded\"], 'pageSize': 200, 'pageNumber': i}\n",
    "    response_API=requests.get(url,params=params,headers=headers)\n",
    "    json_resp=json.loads(response_API.text)\n",
    "    print(\"Step \"+str(i+1))\n",
    "    #print(json_resp)\n",
    "    for record in json_resp:\n",
    "        #print(type(record))\n",
    "        #print(record)\n",
    "        Temp=[None,None,None,None,0,0,0]\n",
    "        Temp[0]=record[\"fdcId\"]\n",
    "        Temp[1]=record[\"description\"]\n",
    "        Temp[2]=record[\"description\"].split(\",\")[0].strip().lower()\n",
    "        Temp[3]=record[\"dataType\"]\n",
    "    \n",
    "        for nutrient in record[\"foodNutrients\"]:\n",
    "        \n",
    "            if nutrient[\"name\"].lower()==\"protein\":\n",
    "                Temp[5]=float(nutrient[\"amount\"])\n",
    "            elif nutrient[\"name\"].lower()==\"energy\":\n",
    "                Temp[4]=float(nutrient[\"amount\"])\n",
    "            elif nutrient[\"name\"]==\"Total lipid (fat)\":\n",
    "                Temp[6]=float(nutrient[\"amount\"])\n",
    "    \n",
    "        finalData.append(Temp.copy())"
   ]
  },
  {
   "cell_type": "code",
   "execution_count": null,
   "id": "bf2bad06",
   "metadata": {},
   "outputs": [],
   "source": []
  },
  {
   "cell_type": "code",
   "execution_count": 131,
   "id": "9b5742b5",
   "metadata": {},
   "outputs": [],
   "source": [
    "df = pd.DataFrame(finalData, columns=[\"ID\",\"Name\",\"SimplifiedName\",\"dataType\",\"Energy\",\"Protien\",\"Fat\"])"
   ]
  },
  {
   "cell_type": "code",
   "execution_count": 132,
   "id": "44a5f2e6",
   "metadata": {},
   "outputs": [
    {
     "data": {
      "text/plain": [
       "10000"
      ]
     },
     "execution_count": 132,
     "metadata": {},
     "output_type": "execute_result"
    }
   ],
   "source": [
    "df[df.columns[0]].count()"
   ]
  },
  {
   "cell_type": "code",
   "execution_count": 133,
   "id": "1ceccd80",
   "metadata": {},
   "outputs": [],
   "source": [
    "df.to_csv(\"sample_till_page51.csv\")"
   ]
  },
  {
   "cell_type": "code",
   "execution_count": null,
   "id": "6044e5bf",
   "metadata": {},
   "outputs": [],
   "source": []
  }
 ],
 "metadata": {
  "kernelspec": {
   "display_name": "Python 3 (ipykernel)",
   "language": "python",
   "name": "python3"
  },
  "language_info": {
   "codemirror_mode": {
    "name": "ipython",
    "version": 3
   },
   "file_extension": ".py",
   "mimetype": "text/x-python",
   "name": "python",
   "nbconvert_exporter": "python",
   "pygments_lexer": "ipython3",
   "version": "3.11.4"
  }
 },
 "nbformat": 4,
 "nbformat_minor": 5
}
